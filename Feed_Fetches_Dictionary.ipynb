{
 "cells": [
  {
   "cell_type": "code",
   "execution_count": 8,
   "metadata": {},
   "outputs": [],
   "source": [
    "import tensorflow as tf"
   ]
  },
  {
   "cell_type": "code",
   "execution_count": 9,
   "metadata": {},
   "outputs": [],
   "source": [
    "tf.compat.v1.disable_eager_execution()"
   ]
  },
  {
   "cell_type": "code",
   "execution_count": 10,
   "metadata": {},
   "outputs": [],
   "source": [
    "tf.compat.v1.reset_default_graph()"
   ]
  },
  {
   "cell_type": "code",
   "execution_count": 11,
   "metadata": {},
   "outputs": [],
   "source": [
    "a = tf.constant([1, 10], name = \"constant_a\")\n",
    "b = tf.constant([10, 100], name = \"constant_b\")\n",
    "c = tf.constant([100, 1000], name = \"constant_c\")"
   ]
  },
  {
   "cell_type": "code",
   "execution_count": 12,
   "metadata": {},
   "outputs": [],
   "source": [
    "x_1 = tf.compat.v1.placeholder(tf.int32, name = \"x_1\")\n",
    "x_2  = tf.compat.v1.placeholder(tf.int32, name = \"x_2\")\n",
    "x_3 = tf.compat.v1.placeholder(tf.int32, name = \"x_3\")"
   ]
  },
  {
   "cell_type": "code",
   "execution_count": 13,
   "metadata": {},
   "outputs": [],
   "source": [
    "ax_1 = tf.multiply(a, x_1, name = \"ax_1\")\n",
    "bx_2 = tf.multiply(b, x_2, name = \"bx_2\")\n",
    "cx_3 = tf.multiply(c, x_3, name = \"cx_3\")"
   ]
  },
  {
   "cell_type": "code",
   "execution_count": 14,
   "metadata": {},
   "outputs": [],
   "source": [
    "with tf.name_scope(\"subtract\"):\n",
    "    y_sub = tf.subtract(bx_2, ax_1, name = \"y_sub\" )"
   ]
  },
  {
   "cell_type": "code",
   "execution_count": 15,
   "metadata": {},
   "outputs": [],
   "source": [
    "with tf.name_scope(\"Add\"):\n",
    "    y_add = ax_1 + bx_2 + cx_3"
   ]
  },
  {
   "cell_type": "code",
   "execution_count": 16,
   "metadata": {},
   "outputs": [],
   "source": [
    "with tf.name_scope(\"Final\"):\n",
    "    y_final = y_add + y_sub"
   ]
  },
  {
   "cell_type": "code",
   "execution_count": 17,
   "metadata": {},
   "outputs": [
    {
     "name": "stdout",
     "output_type": "stream",
     "text": [
      "ax_1: [  4 440]\n",
      "y_sub: [  66 7260]\n",
      "y_add: [   974 107140]\n",
      "y_final: [  340 37400]\n"
     ]
    }
   ],
   "source": [
    "with tf.compat.v1.Session() as sess:\n",
    "    print(\"ax_1:\", sess.run(fetches=ax_1, feed_dict={x_1:[4, 44]}))\n",
    "    print(\"y_sub:\", sess.run(fetches=y_sub, feed_dict={x_1:[4,44], x_2:[7,77]}))\n",
    "    print(\"y_add:\", sess.run(fetches=y_add, feed_dict={x_1:[4, 44], x_2:[7, 77], x_3:[9, 99]}))\n",
    "    print(\"y_final:\", sess.run(fetches=y_final,feed_dict={x_1:[4, 44], x_2:[7, 77], x_3:[2, 22]} ))\n",
    "    \n",
    "    writer = tf.compat.v1.summary.FileWriter(\"./Feed_Fetches_Dictionary\", sess.graph)\n",
    "    writer.close()"
   ]
  }
 ],
 "metadata": {
  "kernelspec": {
   "display_name": "Python 3",
   "language": "python",
   "name": "python3"
  },
  "language_info": {
   "codemirror_mode": {
    "name": "ipython",
    "version": 3
   },
   "file_extension": ".py",
   "mimetype": "text/x-python",
   "name": "python",
   "nbconvert_exporter": "python",
   "pygments_lexer": "ipython3",
   "version": "3.6.5"
  }
 },
 "nbformat": 4,
 "nbformat_minor": 4
}
