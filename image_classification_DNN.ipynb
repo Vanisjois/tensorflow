{
 "cells": [
  {
   "cell_type": "code",
   "execution_count": 20,
   "metadata": {},
   "outputs": [],
   "source": [
    "import tensorflow as tf\n",
    "import numpy as np\n",
    "\n",
    "import matplotlib.pyplot as plt"
   ]
  },
  {
   "cell_type": "code",
   "execution_count": 27,
   "metadata": {},
   "outputs": [
    {
     "data": {
      "text/plain": [
       "<module 'tensorflow.keras.datasets.mnist' from 'c:\\\\users\\\\admin\\\\appdata\\\\local\\\\programs\\\\python\\\\python36\\\\lib\\\\site-packages\\\\tensorflow\\\\keras\\\\datasets\\\\mnist\\\\__init__.py'>"
      ]
     },
     "execution_count": 27,
     "metadata": {},
     "output_type": "execute_result"
    }
   ],
   "source": [
    "#import tensorflow_datasets.public_api as tfds\n",
    "#from tfds.image_classification.MNIST import input_data\n",
    "#from tensorflow.keras.datasets.mnist import input_data\n",
    "\n",
    "mnist = tf.keras.datasets.mnist\n",
    "mnist"
   ]
  },
  {
   "cell_type": "code",
   "execution_count": 28,
   "metadata": {},
   "outputs": [],
   "source": [
    "(X_train, Y_train), (X_test, Y_test) = mnist.load_data()"
   ]
  },
  {
   "cell_type": "code",
   "execution_count": 30,
   "metadata": {},
   "outputs": [
    {
     "data": {
      "text/plain": [
       "((60000, 28, 28), (60000,), (10000, 28, 28), (10000,))"
      ]
     },
     "execution_count": 30,
     "metadata": {},
     "output_type": "execute_result"
    }
   ],
   "source": [
    "X_train.shape, Y_train.shape, X_test.shape, Y_test.shape"
   ]
  },
  {
   "cell_type": "code",
   "execution_count": 32,
   "metadata": {},
   "outputs": [
    {
     "data": {
      "text/plain": [
       "(28, 28)"
      ]
     },
     "execution_count": 32,
     "metadata": {},
     "output_type": "execute_result"
    }
   ],
   "source": [
    "random_image = X_train[2342]\n",
    "random_image.shape"
   ]
  },
  {
   "cell_type": "code",
   "execution_count": 33,
   "metadata": {},
   "outputs": [
    {
     "data": {
      "image/png": "[encoded data removed]",
      "text/plain": [
       "<Figure size 432x288 with 1 Axes>"
      ]
     },
     "metadata": {
      "needs_background": "light"
     },
     "output_type": "display_data"
    }
   ],
   "source": [
    "plt.imshow(random_image)\n",
    "plt.show()"
   ]
  },
  {
   "cell_type": "code",
   "execution_count": 44,
   "metadata": {},
   "outputs": [],
   "source": [
    "feature_columns = [tf.feature_column.numeric_column('x', shape=[28,28])]"
   ]
  },
  {
   "cell_type": "code",
   "execution_count": 48,
   "metadata": {},
   "outputs": [
    {
     "name": "stdout",
     "output_type": "stream",
     "text": [
      "INFO:tensorflow:Using default config.\n",
      "INFO:tensorflow:Using config: {'_model_dir': './model_dir', '_tf_random_seed': None, '_save_summary_steps': 100, '_save_checkpoints_steps': None, '_save_checkpoints_secs': 600, '_session_config': allow_soft_placement: true\n",
      "graph_options {\n",
      "  rewrite_options {\n",
      "    meta_optimizer_iterations: ONE\n",
      "  }\n",
      "}\n",
      ", '_keep_checkpoint_max': 5, '_keep_checkpoint_every_n_hours': 10000, '_log_step_count_steps': 100, '_train_distribute': None, '_device_fn': None, '_protocol': None, '_eval_distribute': None, '_experimental_distribute': None, '_experimental_max_worker_delay_secs': None, '_session_creation_timeout_secs': 7200, '_checkpoint_save_graph_def': True, '_service': None, '_cluster_spec': ClusterSpec({}), '_task_type': 'worker', '_task_id': 0, '_global_id_in_cluster': 0, '_master': '', '_evaluation_master': '', '_is_chief': True, '_num_ps_replicas': 0, '_num_worker_replicas': 1}\n"
     ]
    }
   ],
   "source": [
    "classifier = tf.estimator.DNNClassifier(\n",
    "    feature_columns = feature_columns,\n",
    "    hidden_units=[256,32],\n",
    "    activation_fn = tf.nn.relu,\n",
    "    optimizer='Adam',\n",
    "    n_classes=10,\n",
    "    dropout = 0.1,\n",
    "    model_dir='./model_dir'    \n",
    ")"
   ]
  },
  {
   "cell_type": "code",
   "execution_count": 49,
   "metadata": {},
   "outputs": [],
   "source": [
    "train_input_fn = tf.compat.v1.estimator.inputs.numpy_input_fn(\n",
    "    x = {'x':X_train},\n",
    "    y = Y_train.astype(np.int32),\n",
    "    num_epochs=None,\n",
    "    batch_size=50,\n",
    "    shuffle=True\n",
    ")"
   ]
  },
  {
   "cell_type": "code",
   "execution_count": 50,
   "metadata": {},
   "outputs": [
    {
     "name": "stdout",
     "output_type": "stream",
     "text": [
      "INFO:tensorflow:Calling model_fn.\n",
      "INFO:tensorflow:Done calling model_fn.\n",
      "INFO:tensorflow:Create CheckpointSaverHook.\n",
      "INFO:tensorflow:Graph was finalized.\n",
      "INFO:tensorflow:Running local_init_op.\n",
      "INFO:tensorflow:Done running local_init_op.\n",
      "WARNING:tensorflow:From c:\\users\\admin\\appdata\\local\\programs\\python\\python36\\lib\\site-packages\\tensorflow\\python\\training\\monitored_session.py:906: start_queue_runners (from tensorflow.python.training.queue_runner_impl) is deprecated and will be removed in a future version.\n",
      "Instructions for updating:\n",
      "To construct input pipelines, use the `tf.data` module.\n",
      "INFO:tensorflow:Calling checkpoint listeners before saving checkpoint 0...\n",
      "INFO:tensorflow:Saving checkpoints for 0 into ./model_dir\\model.ckpt.\n",
      "INFO:tensorflow:Calling checkpoint listeners after saving checkpoint 0...\n",
      "INFO:tensorflow:loss = 89.5793, step = 0\n",
      "INFO:tensorflow:global_step/sec: 228.535\n",
      "INFO:tensorflow:loss = 1.9248762, step = 100 (0.438 sec)\n",
      "INFO:tensorflow:global_step/sec: 269.055\n",
      "INFO:tensorflow:loss = 2.230299, step = 200 (0.372 sec)\n",
      "INFO:tensorflow:global_step/sec: 273.483\n",
      "INFO:tensorflow:loss = 1.8416748, step = 300 (0.366 sec)\n",
      "INFO:tensorflow:global_step/sec: 272.732\n",
      "INFO:tensorflow:loss = 1.4995807, step = 400 (0.367 sec)\n",
      "INFO:tensorflow:global_step/sec: 270.532\n",
      "INFO:tensorflow:loss = 1.440529, step = 500 (0.369 sec)\n",
      "INFO:tensorflow:global_step/sec: 271.992\n",
      "INFO:tensorflow:loss = 1.625286, step = 600 (0.369 sec)\n",
      "INFO:tensorflow:global_step/sec: 271.993\n",
      "INFO:tensorflow:loss = 1.3449937, step = 700 (0.368 sec)\n",
      "INFO:tensorflow:global_step/sec: 201.393\n",
      "INFO:tensorflow:loss = 1.60486, step = 800 (0.500 sec)\n",
      "INFO:tensorflow:global_step/sec: 225.436\n",
      "INFO:tensorflow:loss = 1.4613658, step = 900 (0.441 sec)\n",
      "INFO:tensorflow:global_step/sec: 263.403\n",
      "INFO:tensorflow:loss = 1.2195026, step = 1000 (0.380 sec)\n",
      "INFO:tensorflow:global_step/sec: 256.638\n",
      "INFO:tensorflow:loss = 1.4346489, step = 1100 (0.390 sec)\n",
      "INFO:tensorflow:global_step/sec: 267.639\n",
      "INFO:tensorflow:loss = 1.141128, step = 1200 (0.375 sec)\n",
      "INFO:tensorflow:global_step/sec: 253.39\n",
      "INFO:tensorflow:loss = 1.6554196, step = 1300 (0.395 sec)\n",
      "INFO:tensorflow:global_step/sec: 222.439\n",
      "INFO:tensorflow:loss = 1.2551482, step = 1400 (0.450 sec)\n",
      "INFO:tensorflow:global_step/sec: 254.043\n",
      "INFO:tensorflow:loss = 1.2016659, step = 1500 (0.393 sec)\n",
      "INFO:tensorflow:global_step/sec: 252.761\n",
      "INFO:tensorflow:loss = 0.9946525, step = 1600 (0.396 sec)\n",
      "INFO:tensorflow:global_step/sec: 230.097\n",
      "INFO:tensorflow:loss = 0.6677562, step = 1700 (0.435 sec)\n",
      "INFO:tensorflow:global_step/sec: 182.189\n",
      "INFO:tensorflow:loss = 1.2016586, step = 1800 (0.549 sec)\n",
      "INFO:tensorflow:global_step/sec: 264.785\n",
      "INFO:tensorflow:loss = 1.3311343, step = 1900 (0.379 sec)\n",
      "INFO:tensorflow:global_step/sec: 176.225\n",
      "INFO:tensorflow:loss = 1.0108683, step = 2000 (0.567 sec)\n",
      "INFO:tensorflow:global_step/sec: 199.389\n",
      "INFO:tensorflow:loss = 0.7578024, step = 2100 (0.502 sec)\n",
      "INFO:tensorflow:global_step/sec: 203.441\n",
      "INFO:tensorflow:loss = 0.6698397, step = 2200 (0.491 sec)\n",
      "INFO:tensorflow:global_step/sec: 219.022\n",
      "INFO:tensorflow:loss = 0.883339, step = 2300 (0.456 sec)\n",
      "INFO:tensorflow:global_step/sec: 219.738\n",
      "INFO:tensorflow:loss = 0.9998024, step = 2400 (0.456 sec)\n",
      "INFO:tensorflow:global_step/sec: 211.369\n",
      "INFO:tensorflow:loss = 1.1181687, step = 2500 (0.474 sec)\n",
      "INFO:tensorflow:global_step/sec: 197.601\n",
      "INFO:tensorflow:loss = 0.6823555, step = 2600 (0.507 sec)\n",
      "INFO:tensorflow:global_step/sec: 217.358\n",
      "INFO:tensorflow:loss = 1.1467773, step = 2700 (0.458 sec)\n",
      "INFO:tensorflow:global_step/sec: 229.298\n",
      "INFO:tensorflow:loss = 1.1653789, step = 2800 (0.440 sec)\n",
      "INFO:tensorflow:global_step/sec: 217.351\n",
      "INFO:tensorflow:loss = 0.5417362, step = 2900 (0.456 sec)\n",
      "INFO:tensorflow:global_step/sec: 223.664\n",
      "INFO:tensorflow:loss = 0.3026299, step = 3000 (0.448 sec)\n",
      "INFO:tensorflow:global_step/sec: 212.512\n",
      "INFO:tensorflow:loss = 0.47217926, step = 3100 (0.470 sec)\n",
      "INFO:tensorflow:global_step/sec: 225.154\n",
      "INFO:tensorflow:loss = 0.67676055, step = 3200 (0.444 sec)\n",
      "INFO:tensorflow:global_step/sec: 224.931\n",
      "INFO:tensorflow:loss = 0.50619674, step = 3300 (0.445 sec)\n",
      "INFO:tensorflow:global_step/sec: 226.706\n",
      "INFO:tensorflow:loss = 0.5527375, step = 3400 (0.442 sec)\n",
      "INFO:tensorflow:global_step/sec: 226.697\n",
      "INFO:tensorflow:loss = 0.6819245, step = 3500 (0.442 sec)\n",
      "INFO:tensorflow:global_step/sec: 220.71\n",
      "INFO:tensorflow:loss = 0.66445786, step = 3600 (0.451 sec)\n",
      "INFO:tensorflow:global_step/sec: 219.732\n",
      "INFO:tensorflow:loss = 0.629466, step = 3700 (0.456 sec)\n",
      "INFO:tensorflow:global_step/sec: 215.481\n",
      "INFO:tensorflow:loss = 0.4712635, step = 3800 (0.464 sec)\n",
      "INFO:tensorflow:global_step/sec: 226.971\n",
      "INFO:tensorflow:loss = 0.40656522, step = 3900 (0.440 sec)\n",
      "INFO:tensorflow:global_step/sec: 220.216\n",
      "INFO:tensorflow:loss = 0.4041506, step = 4000 (0.454 sec)\n",
      "INFO:tensorflow:global_step/sec: 225.654\n",
      "INFO:tensorflow:loss = 0.3877189, step = 4100 (0.444 sec)\n",
      "INFO:tensorflow:global_step/sec: 220.22\n",
      "INFO:tensorflow:loss = 0.44097802, step = 4200 (0.458 sec)\n",
      "INFO:tensorflow:global_step/sec: 216.412\n",
      "INFO:tensorflow:loss = 0.32324696, step = 4300 (0.459 sec)\n",
      "INFO:tensorflow:global_step/sec: 226.193\n",
      "INFO:tensorflow:loss = 0.48001012, step = 4400 (0.440 sec)\n",
      "INFO:tensorflow:global_step/sec: 215.254\n",
      "INFO:tensorflow:loss = 0.7256533, step = 4500 (0.465 sec)\n",
      "INFO:tensorflow:global_step/sec: 223.665\n",
      "INFO:tensorflow:loss = 0.37760895, step = 4600 (0.448 sec)\n",
      "INFO:tensorflow:global_step/sec: 220.216\n",
      "INFO:tensorflow:loss = 0.42692623, step = 4700 (0.454 sec)\n",
      "INFO:tensorflow:global_step/sec: 230.362\n",
      "INFO:tensorflow:loss = 0.28683737, step = 4800 (0.436 sec)\n",
      "INFO:tensorflow:global_step/sec: 224.425\n",
      "INFO:tensorflow:loss = 0.41275224, step = 4900 (0.443 sec)\n",
      "INFO:tensorflow:global_step/sec: 221.193\n",
      "INFO:tensorflow:loss = 0.33694303, step = 5000 (0.453 sec)\n",
      "INFO:tensorflow:global_step/sec: 216.411\n",
      "INFO:tensorflow:loss = 0.17322677, step = 5100 (0.462 sec)\n",
      "INFO:tensorflow:global_step/sec: 222.656\n",
      "INFO:tensorflow:loss = 0.3922964, step = 5200 (0.448 sec)\n",
      "INFO:tensorflow:global_step/sec: 225.434\n",
      "INFO:tensorflow:loss = 0.28111824, step = 5300 (0.446 sec)\n",
      "INFO:tensorflow:global_step/sec: 219.011\n",
      "INFO:tensorflow:loss = 0.2924984, step = 5400 (0.455 sec)\n",
      "INFO:tensorflow:global_step/sec: 232.234\n",
      "INFO:tensorflow:loss = 0.33372742, step = 5500 (0.431 sec)\n",
      "INFO:tensorflow:global_step/sec: 197.611\n",
      "INFO:tensorflow:loss = 0.2614741, step = 5600 (0.506 sec)\n",
      "INFO:tensorflow:global_step/sec: 199.575\n",
      "INFO:tensorflow:loss = 0.5073187, step = 5700 (0.502 sec)\n",
      "INFO:tensorflow:global_step/sec: 197.995\n",
      "INFO:tensorflow:loss = 0.42889842, step = 5800 (0.505 sec)\n",
      "INFO:tensorflow:global_step/sec: 229.052\n",
      "INFO:tensorflow:loss = 0.17173626, step = 5900 (0.438 sec)\n",
      "INFO:tensorflow:global_step/sec: 228.25\n",
      "INFO:tensorflow:loss = 0.40334648, step = 6000 (0.436 sec)\n",
      "INFO:tensorflow:global_step/sec: 234.126\n",
      "INFO:tensorflow:loss = 0.22802174, step = 6100 (0.427 sec)\n",
      "INFO:tensorflow:global_step/sec: 225.17\n",
      "INFO:tensorflow:loss = 0.29757777, step = 6200 (0.444 sec)\n",
      "INFO:tensorflow:global_step/sec: 230.091\n",
      "INFO:tensorflow:loss = 1.0454755, step = 6300 (0.436 sec)\n",
      "INFO:tensorflow:global_step/sec: 217.832\n",
      "INFO:tensorflow:loss = 0.19269672, step = 6400 (0.458 sec)\n",
      "INFO:tensorflow:global_step/sec: 228.257\n",
      "INFO:tensorflow:loss = 0.09313635, step = 6500 (0.439 sec)\n",
      "INFO:tensorflow:global_step/sec: 227.713\n",
      "INFO:tensorflow:loss = 0.3553642, step = 6600 (0.442 sec)\n",
      "INFO:tensorflow:global_step/sec: 174.822\n",
      "INFO:tensorflow:loss = 0.15068875, step = 6700 (0.570 sec)\n",
      "INFO:tensorflow:global_step/sec: 178.887\n",
      "INFO:tensorflow:loss = 0.46599406, step = 6800 (0.557 sec)\n",
      "INFO:tensorflow:global_step/sec: 193.41\n",
      "INFO:tensorflow:loss = 0.27285978, step = 6900 (0.517 sec)\n",
      "INFO:tensorflow:global_step/sec: 219.729\n",
      "INFO:tensorflow:loss = 0.07471353, step = 7000 (0.456 sec)\n",
      "INFO:tensorflow:global_step/sec: 232.782\n",
      "INFO:tensorflow:loss = 0.2600511, step = 7100 (0.429 sec)\n",
      "INFO:tensorflow:global_step/sec: 228.236\n",
      "INFO:tensorflow:loss = 0.14583509, step = 7200 (0.439 sec)\n",
      "INFO:tensorflow:global_step/sec: 229.82\n",
      "INFO:tensorflow:loss = 0.29081923, step = 7300 (0.434 sec)\n",
      "INFO:tensorflow:global_step/sec: 229.3\n",
      "INFO:tensorflow:loss = 0.18426466, step = 7400 (0.439 sec)\n",
      "INFO:tensorflow:global_step/sec: 226.456\n"
     ]
    },
    {
     "name": "stdout",
     "output_type": "stream",
     "text": [
      "INFO:tensorflow:loss = 0.097926505, step = 7500 (0.438 sec)\n",
      "INFO:tensorflow:global_step/sec: 233.302\n",
      "INFO:tensorflow:loss = 0.46836177, step = 7600 (0.429 sec)\n",
      "INFO:tensorflow:global_step/sec: 229.571\n",
      "INFO:tensorflow:loss = 0.34919697, step = 7700 (0.436 sec)\n",
      "INFO:tensorflow:global_step/sec: 236.338\n",
      "INFO:tensorflow:loss = 0.33517465, step = 7800 (0.423 sec)\n",
      "INFO:tensorflow:global_step/sec: 223.663\n",
      "INFO:tensorflow:loss = 0.212365, step = 7900 (0.447 sec)\n",
      "INFO:tensorflow:global_step/sec: 236.628\n",
      "INFO:tensorflow:loss = 0.30564454, step = 8000 (0.424 sec)\n",
      "INFO:tensorflow:global_step/sec: 233.027\n",
      "INFO:tensorflow:loss = 0.077042274, step = 8100 (0.428 sec)\n",
      "INFO:tensorflow:global_step/sec: 195.676\n",
      "INFO:tensorflow:loss = 0.17062615, step = 8200 (0.513 sec)\n",
      "INFO:tensorflow:global_step/sec: 173.02\n",
      "INFO:tensorflow:loss = 0.21748161, step = 8300 (0.576 sec)\n",
      "INFO:tensorflow:global_step/sec: 190.831\n",
      "INFO:tensorflow:loss = 0.092224486, step = 8400 (0.525 sec)\n",
      "INFO:tensorflow:global_step/sec: 236.627\n",
      "INFO:tensorflow:loss = 0.1978907, step = 8500 (0.422 sec)\n",
      "INFO:tensorflow:global_step/sec: 230.878\n",
      "INFO:tensorflow:loss = 0.30614552, step = 8600 (0.433 sec)\n",
      "INFO:tensorflow:global_step/sec: 220.711\n",
      "INFO:tensorflow:loss = 1.0251793, step = 8700 (0.456 sec)\n",
      "INFO:tensorflow:global_step/sec: 144.844\n",
      "INFO:tensorflow:loss = 0.1428314, step = 8800 (0.690 sec)\n",
      "INFO:tensorflow:global_step/sec: 145.587\n",
      "INFO:tensorflow:loss = 0.2279362, step = 8900 (0.689 sec)\n",
      "INFO:tensorflow:global_step/sec: 150.85\n",
      "INFO:tensorflow:loss = 0.06792662, step = 9000 (0.660 sec)\n",
      "INFO:tensorflow:global_step/sec: 233.032\n",
      "INFO:tensorflow:loss = 0.23804033, step = 9100 (0.428 sec)\n",
      "INFO:tensorflow:global_step/sec: 229.578\n",
      "INFO:tensorflow:loss = 0.23362148, step = 9200 (0.435 sec)\n",
      "INFO:tensorflow:global_step/sec: 229.301\n",
      "INFO:tensorflow:loss = 0.030743947, step = 9300 (0.438 sec)\n",
      "INFO:tensorflow:global_step/sec: 202.8\n",
      "INFO:tensorflow:loss = 0.0651162, step = 9400 (0.493 sec)\n",
      "INFO:tensorflow:global_step/sec: 199.581\n",
      "INFO:tensorflow:loss = 0.14290185, step = 9500 (0.501 sec)\n",
      "INFO:tensorflow:global_step/sec: 201.18\n",
      "INFO:tensorflow:loss = 0.053446773, step = 9600 (0.496 sec)\n",
      "INFO:tensorflow:global_step/sec: 195.679\n",
      "INFO:tensorflow:loss = 0.26710516, step = 9700 (0.511 sec)\n",
      "INFO:tensorflow:global_step/sec: 225.431\n",
      "INFO:tensorflow:loss = 0.1015034, step = 9800 (0.445 sec)\n",
      "INFO:tensorflow:global_step/sec: 196.82\n",
      "INFO:tensorflow:loss = 0.21269424, step = 9900 (0.508 sec)\n",
      "INFO:tensorflow:Calling checkpoint listeners before saving checkpoint 10000...\n",
      "INFO:tensorflow:Saving checkpoints for 10000 into ./model_dir\\model.ckpt.\n",
      "INFO:tensorflow:Calling checkpoint listeners after saving checkpoint 10000...\n",
      "INFO:tensorflow:Loss for final step: 0.1932613.\n"
     ]
    },
    {
     "data": {
      "text/plain": [
       "<tensorflow_estimator.python.estimator.canned.dnn.DNNClassifierV2 at 0x1834f8f18d0>"
      ]
     },
     "execution_count": 50,
     "metadata": {},
     "output_type": "execute_result"
    }
   ],
   "source": [
    "classifier.train(input_fn=train_input_fn, steps=10000)"
   ]
  },
  {
   "cell_type": "code",
   "execution_count": 51,
   "metadata": {},
   "outputs": [],
   "source": [
    "test_input_fn = tf.compat.v1.estimator.inputs.numpy_input_fn(\n",
    "    x = {'x':X_test},\n",
    "    y = Y_test.astype(np.int32),\n",
    "    num_epochs = 1,\n",
    "    shuffle = False\n",
    ")"
   ]
  },
  {
   "cell_type": "code",
   "execution_count": 52,
   "metadata": {},
   "outputs": [
    {
     "name": "stdout",
     "output_type": "stream",
     "text": [
      "INFO:tensorflow:Calling model_fn.\n",
      "INFO:tensorflow:Done calling model_fn.\n",
      "INFO:tensorflow:Starting evaluation at 2021-01-02T15:36:07Z\n",
      "INFO:tensorflow:Graph was finalized.\n",
      "INFO:tensorflow:Restoring parameters from ./model_dir\\model.ckpt-10000\n",
      "INFO:tensorflow:Running local_init_op.\n",
      "INFO:tensorflow:Done running local_init_op.\n",
      "INFO:tensorflow:Inference Time : 0.69335s\n",
      "INFO:tensorflow:Finished evaluation at 2021-01-02-15:36:08\n",
      "INFO:tensorflow:Saving dict for global step 10000: accuracy = 0.9601, average_loss = 0.17495658, global_step = 10000, loss = 0.17337164\n",
      "INFO:tensorflow:Saving 'checkpoint_path' summary for global step 10000: ./model_dir\\model.ckpt-10000\n"
     ]
    }
   ],
   "source": [
    "results = classifier.evaluate(input_fn=test_input_fn)"
   ]
  },
  {
   "cell_type": "code",
   "execution_count": 53,
   "metadata": {},
   "outputs": [],
   "source": [
    "predict_input_fn = tf.compat.v1.estimator.inputs.numpy_input_fn(\n",
    "    x = {'x':X_test[10:12]},\n",
    "    y = Y_test[10:12].astype(np.int32),\n",
    "    num_epochs=1,\n",
    "    shuffle=False\n",
    ")"
   ]
  },
  {
   "cell_type": "code",
   "execution_count": 54,
   "metadata": {},
   "outputs": [],
   "source": [
    "predictions = classifier.predict(input_fn=predict_input_fn)"
   ]
  },
  {
   "cell_type": "code",
   "execution_count": 55,
   "metadata": {},
   "outputs": [
    {
     "name": "stdout",
     "output_type": "stream",
     "text": [
      "INFO:tensorflow:Calling model_fn.\n",
      "INFO:tensorflow:Done calling model_fn.\n",
      "INFO:tensorflow:Graph was finalized.\n",
      "INFO:tensorflow:Restoring parameters from ./model_dir\\model.ckpt-10000\n",
      "INFO:tensorflow:Running local_init_op.\n",
      "INFO:tensorflow:Done running local_init_op.\n"
     ]
    }
   ],
   "source": [
    "predictions_list=list(predictions)"
   ]
  },
  {
   "cell_type": "code",
   "execution_count": 56,
   "metadata": {},
   "outputs": [
    {
     "data": {
      "text/plain": [
       "[{'logits': array([108.85912 ,  67.545555,  97.88454 ,  74.31953 ,  41.466877,\n",
       "          92.81885 ,  91.091286,  90.82912 ,  76.36632 ,  73.452614],\n",
       "        dtype=float32),\n",
       "  'probabilities': array([9.99982715e-01, 1.14218867e-18, 1.71312931e-05, 9.99162923e-16,\n",
       "         5.39403174e-30, 1.08090944e-07, 1.92096170e-08, 1.47795154e-08,\n",
       "         7.73653297e-15, 4.19895143e-16], dtype=float32),\n",
       "  'class_ids': array([0], dtype=int64),\n",
       "  'classes': array([b'0'], dtype=object),\n",
       "  'all_class_ids': array([0, 1, 2, 3, 4, 5, 6, 7, 8, 9]),\n",
       "  'all_classes': array([b'0', b'1', b'2', b'3', b'4', b'5', b'6', b'7', b'8', b'9'],\n",
       "        dtype=object)},\n",
       " {'logits': array([ 96.45234 ,  30.4035  ,  69.88806 ,  80.7214  ,  90.78493 ,\n",
       "          92.908615, 106.02911 ,  42.72515 ,  57.87139 ,  26.924349],\n",
       "        dtype=float32),\n",
       "  'probabilities': array([6.9315218e-05, 1.4327937e-33, 2.0142314e-16, 1.0208627e-11,\n",
       "         2.3960888e-07, 2.0035898e-06, 9.9992847e-01, 3.2166754e-28,\n",
       "         1.2171268e-21, 4.4177913e-35], dtype=float32),\n",
       "  'class_ids': array([6], dtype=int64),\n",
       "  'classes': array([b'6'], dtype=object),\n",
       "  'all_class_ids': array([0, 1, 2, 3, 4, 5, 6, 7, 8, 9]),\n",
       "  'all_classes': array([b'0', b'1', b'2', b'3', b'4', b'5', b'6', b'7', b'8', b'9'],\n",
       "        dtype=object)}]"
      ]
     },
     "execution_count": 56,
     "metadata": {},
     "output_type": "execute_result"
    }
   ],
   "source": [
    "predictions_list"
   ]
  },
  {
   "cell_type": "code",
   "execution_count": 57,
   "metadata": {},
   "outputs": [
    {
     "data": {
      "text/plain": [
       "array([0, 6], dtype=uint8)"
      ]
     },
     "execution_count": 57,
     "metadata": {},
     "output_type": "execute_result"
    }
   ],
   "source": [
    "Y_test[10:12]"
   ]
  }
 ],
 "metadata": {
  "kernelspec": {
   "display_name": "Python 3",
   "language": "python",
   "name": "python3"
  },
  "language_info": {
   "codemirror_mode": {
    "name": "ipython",
    "version": 3
   },
   "file_extension": ".py",
   "mimetype": "text/x-python",
   "name": "python",
   "nbconvert_exporter": "python",
   "pygments_lexer": "ipython3",
   "version": "3.6.5"
  }
 },
 "nbformat": 4,
 "nbformat_minor": 4
}
